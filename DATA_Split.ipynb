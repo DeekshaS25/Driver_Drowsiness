{
 "cells": [
  {
   "cell_type": "code",
   "execution_count": 13,
   "id": "e04a389e",
   "metadata": {},
   "outputs": [],
   "source": [
    "import os\n",
    "import shutil\n",
    "import glob"
   ]
  },
  {
   "cell_type": "raw",
   "id": "ad5653ba",
   "metadata": {},
   "source": []
  },
  {
   "cell_type": "code",
   "execution_count": 18,
   "id": "4cfc1bef",
   "metadata": {},
   "outputs": [],
   "source": [
    "Raw_DIR= '/Users/pritamsingh/Downloads/mrlEyes_2018_01'\n",
    "for dirpath, dirname, filenames in os.walk(Raw_DIR):\n",
    "   for i in ([f for f in filenames if f.endswith('.png')]):\n",
    "     if i.split('_')[4]=='0':\n",
    "            shutil.copy(src=dirpath+'/'+i, dst='/Users/pritamsingh/Downloads/pd/ce')\n",
    "            \n",
    "     elif i.split('_')[4]=='1':\n",
    "            shutil.copy(src=dirpath+'/'+i, dst='/Users/pritamsingh/Downloads/pd/oe')"
   ]
  },
  {
   "cell_type": "code",
   "execution_count": null,
   "id": "e586fed4",
   "metadata": {},
   "outputs": [],
   "source": []
  }
 ],
 "metadata": {
  "kernelspec": {
   "display_name": "Python 3 (ipykernel)",
   "language": "python",
   "name": "python3"
  },
  "language_info": {
   "codemirror_mode": {
    "name": "ipython",
    "version": 3
   },
   "file_extension": ".py",
   "mimetype": "text/x-python",
   "name": "python",
   "nbconvert_exporter": "python",
   "pygments_lexer": "ipython3",
   "version": "3.9.16"
  }
 },
 "nbformat": 4,
 "nbformat_minor": 5
}
